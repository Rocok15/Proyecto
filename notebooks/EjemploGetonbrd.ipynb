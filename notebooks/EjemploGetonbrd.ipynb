{
 "cells": [
  {
   "cell_type": "code",
   "execution_count": null,
   "id": "8d3252cd",
   "metadata": {},
   "outputs": [],
   "source": [
    "#Importamos la biblioteca\n",
    "import requests\n",
    "\n",
    "#Definimos la URL a la que queremos hacer peticiones\n",
    "url = \"https://www.getonbrd.com/api/v0/categories?per_page=10&page=1\"\n",
    "\n",
    "#Hacemos la peticion y la guardamos en una variable\n",
    "response = requests.get(url)\n",
    "\n",
    "#Obtenemos el json de la respuesta\n",
    "response.json()"
   ]
  },
  {
   "cell_type": "code",
   "execution_count": null,
   "id": "27faa0bb",
   "metadata": {},
   "outputs": [],
   "source": [
    "import requests\n",
    "\n",
    "url = \"https://www.getonbrd.com/api/v0/categories?per_page=10&page=1\"\n",
    "\n",
    "#Podemos reducir la asignación y formato de los datos en una linea\n",
    "response = requests.get(url).json()\n",
    "\n",
    "#Tratamos el JSON como un objeto, podemos indexarlo como tal\n",
    "primera_categoria = response['data'][0]['attributes']['name']\n",
    "\n",
    "primera_categoria"
   ]
  },
  {
   "cell_type": "code",
   "execution_count": null,
   "id": "519aeebb",
   "metadata": {},
   "outputs": [],
   "source": [
    "import requests, json\n",
    "\n",
    "url = \"https://www.getonbrd.com/api/v0/categories?per_page=10&page=1\"\n",
    "\n",
    "response = requests.get(url).json()\n",
    "\n",
    "#Nos aseguramos de que lo que estamos intenando guardar sea un diccionario (json)\n",
    "if isinstance(response, dict):\n",
    "    #Guardamos los datos en un archivo json\n",
    "    with open('./categorias.json', 'w', encoding='utf-8') as file:\n",
    "        json.dump(response, file, ensure_ascii=False, indent=4)"
   ]
  }
 ],
 "metadata": {
  "kernelspec": {
   "display_name": ".venv",
   "language": "python",
   "name": "python3"
  },
  "language_info": {
   "name": "python",
   "version": "3.13.3"
  }
 },
 "nbformat": 4,
 "nbformat_minor": 5
}
