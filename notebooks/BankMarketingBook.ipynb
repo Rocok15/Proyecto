{
 "cells": [
  {
   "cell_type": "code",
   "execution_count": 1,
   "id": "e9147884",
   "metadata": {},
   "outputs": [],
   "source": [
    "import os\n",
    "import sys\n",
    "\n",
    "# Cambiar el directorio de trabajo al root del proyecto\n",
    "os.chdir(\"..\")\n",
    "\n",
    "# Agregar la carpeta src al path para importar los módulos\n",
    "sys.path.append(\"./src\")\n",
    "\n",
    "# Importar funciones\n",
    "from BankMarketing import auth_kaggle, descargar_dataset"
   ]
  },
  {
   "cell_type": "code",
   "execution_count": 2,
   "id": "07c8cebd",
   "metadata": {},
   "outputs": [],
   "source": [
    "auth_kaggle()\n"
   ]
  },
  {
   "cell_type": "code",
   "execution_count": 3,
   "id": "511718a2",
   "metadata": {},
   "outputs": [
    {
     "name": "stdout",
     "output_type": "stream",
     "text": [
      "Dataset URL: https://www.kaggle.com/datasets/henriqueyamahata/bank-marketing\n"
     ]
    }
   ],
   "source": [
    "descargar_dataset()\n"
   ]
  }
 ],
 "metadata": {
  "kernelspec": {
   "display_name": ".venv",
   "language": "python",
   "name": "python3"
  },
  "language_info": {
   "codemirror_mode": {
    "name": "ipython",
    "version": 3
   },
   "file_extension": ".py",
   "mimetype": "text/x-python",
   "name": "python",
   "nbconvert_exporter": "python",
   "pygments_lexer": "ipython3",
   "version": "3.13.3"
  }
 },
 "nbformat": 4,
 "nbformat_minor": 5
}
