{
 "cells": [
  {
   "cell_type": "code",
   "execution_count": 1,
   "id": "e9147884",
   "metadata": {},
   "outputs": [],
   "source": [
    "import os\n",
    "import sys\n",
    "\n",
    "# Cambiar el directorio de trabajo al root del proyecto\n",
    "os.chdir(\"..\")\n",
    "\n",
    "# Agregar la carpeta src al path para importar los módulos\n",
    "sys.path.append(\"./src\")\n",
    "\n",
    "# Importar funciones\n",
    "from BankMarketing import auth_kaggle, descargar_dataset"
   ]
  },
  {
   "cell_type": "code",
   "execution_count": null,
   "id": "07c8cebd",
   "metadata": {},
   "outputs": [],
   "source": [
    "auth_kaggle()"
   ]
  },
  {
   "cell_type": "code",
   "execution_count": null,
   "id": "511718a2",
   "metadata": {},
   "outputs": [
    {
     "name": "stdout",
     "output_type": "stream",
     "text": [
      "Dataset URL: https://www.kaggle.com/datasets/henriqueyamahata/bank-marketing\n"
     ]
    }
   ],
   "source": [
    "descargar_dataset()"
   ]
  },
  {
   "cell_type": "code",
   "execution_count": null,
   "id": "3d14f216",
   "metadata": {},
   "outputs": [
    {
     "name": "stdout",
     "output_type": "stream",
     "text": [
      "      age;\"job\";\"marital\";\"education\";\"default\";\"housing\";\"loan\";\"contact\";\"month\";\"day_of_week\";\"duration\";\"campaign\";\"pdays\";\"previous\";\"poutcome\";\"emp.var.rate\";\"cons.price.idx\";\"cons.conf.idx\";\"euribor3m\";\"nr.employed\";\"y\"\n",
      "0      56;\"housemaid\";\"married\";\"basic.4y\";\"no\";\"no\";...                                                                                                                                                                          \n",
      "1      57;\"services\";\"married\";\"high.school\";\"unknown...                                                                                                                                                                          \n",
      "2      37;\"services\";\"married\";\"high.school\";\"no\";\"ye...                                                                                                                                                                          \n",
      "3      40;\"admin.\";\"married\";\"basic.6y\";\"no\";\"no\";\"no...                                                                                                                                                                          \n",
      "4      56;\"services\";\"married\";\"high.school\";\"no\";\"no...                                                                                                                                                                          \n",
      "...                                                  ...                                                                                                                                                                          \n",
      "41183  73;\"retired\";\"married\";\"professional.course\";\"...                                                                                                                                                                          \n",
      "41184  46;\"blue-collar\";\"married\";\"professional.cours...                                                                                                                                                                          \n",
      "41185  56;\"retired\";\"married\";\"university.degree\";\"no...                                                                                                                                                                          \n",
      "41186  44;\"technician\";\"married\";\"professional.course...                                                                                                                                                                          \n",
      "41187  74;\"retired\";\"married\";\"professional.course\";\"...                                                                                                                                                                          \n",
      "\n",
      "[41188 rows x 1 columns]\n"
     ]
    }
   ],
   "source": [
    "#Para transformar el archivo csv en un dataframe\n",
    "import pandas as pd\n",
    "df = pd.read_csv(\"../data/bank-additional-full.csv\")\n",
    "print(df)"
   ]
  }
 ],
 "metadata": {
  "kernelspec": {
   "display_name": ".venv",
   "language": "python",
   "name": "python3"
  },
  "language_info": {
   "codemirror_mode": {
    "name": "ipython",
    "version": 3
   },
   "file_extension": ".py",
   "mimetype": "text/x-python",
   "name": "python",
   "nbconvert_exporter": "python",
   "pygments_lexer": "ipython3",
   "version": "3.13.3"
  }
 },
 "nbformat": 4,
 "nbformat_minor": 5
}
